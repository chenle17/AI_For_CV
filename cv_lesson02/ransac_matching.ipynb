{
 "cells": [
  {
   "cell_type": "code",
   "execution_count": 6,
   "metadata": {},
   "outputs": [],
   "source": [
    "import cv2\n",
    "import numpy as np"
   ]
  },
  {
   "cell_type": "code",
   "execution_count": 7,
   "metadata": {},
   "outputs": [],
   "source": [
    "def getHomography(in_A, in_B, out_A, out_B, threshold, K):\n",
    "    # 2.1 ，根据inlier获取新的homography matrix和mask\n",
    "    # 并生成新的inlier集合\n",
    "    H, mask = cv2.findHomography(in_A, in_B, cv2.RANSAC, threshold)\n",
    "    new_inA = in_A[mask]\n",
    "    new_inB = in_B[mask]\n",
    "    \n",
    "    # 2.2，循环计算outlier中点间的距离，小于设置的threshold值的对应关键点加入inlier，否则继续为outlier\n",
    "    for i in len(out_A):\n",
    "        for j in len(out_B):\n",
    "            distance = np.linalg.norm(np.array(out_B[j]) - cv2.convertPointsFromHomogeneous(H * np.array(out_A[i])))\n",
    "            if distance < threshold:\n",
    "                new_inA.append(out_A[i])\n",
    "                new_inB.append(out_B[j])\n",
    "                del out_A[i],out_B[j]\n",
    "                continue\n",
    "    \n",
    "    # 2.3，设置终止迭代条件：当inlier点个数超过outlier时或者迭代次数大于100时结束迭代\n",
    "    K += 1\n",
    "    if len(new_inA) / len(out_A) > 1 or K > 100:\n",
    "        return H\n",
    "    else:\n",
    "        return getHomography(new_inA, new_inB, out_A, out_B, threshold)\n"
   ]
  },
  {
   "cell_type": "code",
   "execution_count": 8,
   "metadata": {},
   "outputs": [],
   "source": [
    "def ransacMatching(A, B):\n",
    "    # 1，取四对关键点，设置阈值为5\n",
    "    inliers_A = A[:4]\n",
    "    inliers_B = B[:4]\n",
    "    outlier_A = A[4:]\n",
    "    outlier_B = B[4:]\n",
    "    threshold = 5\n",
    "    K = 0\n",
    "    # 2， 调用迭代方法获取homography matrix\n",
    "    findHomography(inliers_A, inliers_B, outlier_A, outlier_B, threshold，K)\n",
    "        "
   ]
  },
  {
   "cell_type": "code",
   "execution_count": 3,
   "metadata": {},
   "outputs": [],
   "source": []
  },
  {
   "cell_type": "code",
   "execution_count": null,
   "metadata": {},
   "outputs": [],
   "source": []
  }
 ],
 "metadata": {
  "kernelspec": {
   "display_name": "Python 3",
   "language": "python",
   "name": "python3"
  },
  "language_info": {
   "codemirror_mode": {
    "name": "ipython",
    "version": 3
   },
   "file_extension": ".py",
   "mimetype": "text/x-python",
   "name": "python",
   "nbconvert_exporter": "python",
   "pygments_lexer": "ipython3",
   "version": "3.6.4"
  }
 },
 "nbformat": 4,
 "nbformat_minor": 2
}
