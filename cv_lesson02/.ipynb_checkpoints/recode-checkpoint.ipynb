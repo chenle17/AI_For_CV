{
 "cells": [
  {
   "cell_type": "markdown",
   "metadata": {
    "collapsed": true
   },
   "source": [
    "## Gaussian Kernel"
   ]
  },
  {
   "cell_type": "code",
   "execution_count": 1,
   "metadata": {},
   "outputs": [],
   "source": [
    "import cv2\n",
    "import numpy as np"
   ]
  },
  {
   "cell_type": "code",
   "execution_count": 2,
   "metadata": {},
   "outputs": [],
   "source": [
    "def esc():\n",
    "    key = cv2.waitKey()\n",
    "    if key == 27:\n",
    "        cv2.destroyAllWindows()"
   ]
  },
  {
   "cell_type": "code",
   "execution_count": 3,
   "metadata": {},
   "outputs": [],
   "source": [
    "img = cv2.imread(\"/home/ubuntu/Downloads/Learn_CV/cv_lesson02/img/scarlett_4.jpeg\")\n",
    "cv2.imshow('scarlett', img)\n",
    "esc()\n",
    "        "
   ]
  },
  {
   "cell_type": "markdown",
   "metadata": {},
   "source": [
    "**cv2.GaussianBlur(src, ksize, sigmaX[, dst[, sigmaY[, borderType]]]) → dst**  \n",
    "**Parameters:**\t \n",
    "  **src:**\n",
    "> input image; the image can have any number of channels, which are processed independently, but the depth should be CV_8U, CV_16U, CV_16S, CV_32F or CV_64F.  \n",
    "\n",
    "  **dst:**\n",
    "> output image of the same size and type as src. \n",
    "\n",
    "  **ksize:**\n",
    "> Gaussian kernel size. ksize.width and ksize.height can differ but they both must be **positive and odd**. Or, they can be zero’s and then they are computed from sigma* . \n",
    "\n",
    "  **sigmaX:**\n",
    "> Gaussian kernel standard deviation in X direction.  \n",
    "\n",
    "  **sigmaY:**\n",
    "> Gaussian kernel standard deviation in Y direction; if sigmaY is zero, it is set to be equal to sigmaX, if both sigmas are zeros, they are computed from ksize.width and ksize.height , respectively (see getGaussianKernel() for details); to fully control the result regardless of possible future modifications of all this semantics, it is recommended to specify all of ksize, sigmaX, and sigmaY.  \n",
    "\n",
    "  **borderType:** \n",
    "> pixel extrapolation method (see borderInterpolate() for details).  "
   ]
  },
  {
   "cell_type": "code",
   "execution_count": 8,
   "metadata": {},
   "outputs": [],
   "source": [
    "# 高斯分布的方差（variance，第三个参数）控制图像的模糊程度，越大越模糊\n",
    "g_img = cv2.GaussianBlur(img, (7, 7), 1)\n",
    "cv2.imshow('gaussian_blur_scarlett', g_img)\n",
    "cv2.imshow('scarlett', img)\n",
    "esc()"
   ]
  },
  {
   "cell_type": "code",
   "execution_count": null,
   "metadata": {},
   "outputs": [],
   "source": [
    "kernel = cv2.getGaussianKernel(7, 5)"
   ]
  }
 ],
 "metadata": {
  "kernelspec": {
   "display_name": "Python 3",
   "language": "python",
   "name": "python3"
  },
  "language_info": {
   "codemirror_mode": {
    "name": "ipython",
    "version": 3
   },
   "file_extension": ".py",
   "mimetype": "text/x-python",
   "name": "python",
   "nbconvert_exporter": "python",
   "pygments_lexer": "ipython3",
   "version": "3.5.4"
  }
 },
 "nbformat": 4,
 "nbformat_minor": 1
}
