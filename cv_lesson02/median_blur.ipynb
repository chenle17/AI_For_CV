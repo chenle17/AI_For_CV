{
 "cells": [
  {
   "cell_type": "code",
   "execution_count": 1,
   "metadata": {},
   "outputs": [],
   "source": [
    "import cv2\n",
    "import numpy as np"
   ]
  },
  {
   "cell_type": "code",
   "execution_count": 2,
   "metadata": {},
   "outputs": [],
   "source": [
    "def img_padding(img, padding_size1, padding_size2, padding_way):\n",
    "    img_shape = img.shape\n",
    "    img_padded = np.zeros((img_shape[0] + padding_size1 * 2, img_shape[1] + padding_size2 * 2), np.uint8)\n",
    "    img_padded[padding_size1:-padding_size1, padding_size2:-padding_size2] =img[:]\n",
    "    if padding_way == \"REPLICA\":\n",
    "        img_padded[:padding_size1, :padding_size2] += img[0, 0]\n",
    "        img_padded[:padding_size1, padding_size2:-padding_size2] += img[0, :]\n",
    "        img_padded[:padding_size1, -padding_size2:] += img[0, -1]\n",
    "        img_padded[padding_size1:-padding_size1, :padding_size2] += img[:, 0].reshape(img_shape[0], 1)\n",
    "        img_padded[padding_size1:-padding_size1, -padding_size2:] += img[:, -1].reshape(img_shape[0], 1)\n",
    "        img_padded[-padding_size1:, :padding_size2] += img[-1, 0]\n",
    "        img_padded[-padding_size1:, padding_size2:-padding_size2] += img[-1, :]\n",
    "        img_padded[-padding_size1:, -padding_size2:] += img[-1, -1]\n",
    "    return img_padded\n",
    "\n",
    "    "
   ]
  },
  {
   "cell_type": "code",
   "execution_count": 3,
   "metadata": {},
   "outputs": [],
   "source": [
    "def median_blur(img, kernel, padding_way):\n",
    "#        img & kernel is List of List; padding_way a string\n",
    "#        Please finish your code under this blank\n",
    "    k_shape = kernel.shape\n",
    "    img_padded = img_padding(img, k_shape[0] // 2, k_shape[1] // 2, padding_way)\n",
    "    \n",
    "    img_shape = img.shape\n",
    "    img_median_blur = np.zeros((img_shape[0], img_shape[1]), np.uint8)\n",
    "    \n",
    "    for i in range(img_shape[0]):\n",
    "        for j in range(img.shape[1]):\n",
    "            mid = (k_shape[0] * k_shape[1] + 1) // 2\n",
    "            img_window = img_padded[i:i+k_shape[0], j:j+k_shape[1]].flatten()\n",
    "            img_window.sort()\n",
    "            img_median_blur[i][j] = img_window[mid]\n",
    "    \n",
    "    return img_median_blur\n",
    "    \n",
    "    "
   ]
  },
  {
   "cell_type": "code",
   "execution_count": 4,
   "metadata": {},
   "outputs": [
    {
     "name": "stdout",
     "output_type": "stream",
     "text": [
      "[[136 140 140 ... 103 104 144]\n",
      " [136 140 140 ... 104 104 144]\n",
      " [135 139 140 ... 104 105 144]\n",
      " ...\n",
      " [202 200 199 ...  97 100 130]\n",
      " [202 200 199 ...  97 100 127]\n",
      " [204 202 199 ...  96  99 127]]\n"
     ]
    },
    {
     "ename": "NameError",
     "evalue": "name 'esc' is not defined",
     "output_type": "error",
     "traceback": [
      "\u001b[1;31m---------------------------------------------------------------------------\u001b[0m",
      "\u001b[1;31mNameError\u001b[0m                                 Traceback (most recent call last)",
      "\u001b[1;32m<ipython-input-4-dda5e380167d>\u001b[0m in \u001b[0;36m<module>\u001b[1;34m()\u001b[0m\n\u001b[0;32m      4\u001b[0m \u001b[0mprint\u001b[0m\u001b[1;33m(\u001b[0m\u001b[0mimg_blur\u001b[0m\u001b[1;33m)\u001b[0m\u001b[1;33m\u001b[0m\u001b[0m\n\u001b[0;32m      5\u001b[0m \u001b[0mcv2\u001b[0m\u001b[1;33m.\u001b[0m\u001b[0mimshow\u001b[0m\u001b[1;33m(\u001b[0m\u001b[1;34m'img_blur'\u001b[0m\u001b[1;33m,\u001b[0m \u001b[0mimg_blur\u001b[0m\u001b[1;33m)\u001b[0m\u001b[1;33m\u001b[0m\u001b[0m\n\u001b[1;32m----> 6\u001b[1;33m \u001b[0mesc\u001b[0m\u001b[1;33m(\u001b[0m\u001b[1;33m)\u001b[0m\u001b[1;33m\u001b[0m\u001b[0m\n\u001b[0m",
      "\u001b[1;31mNameError\u001b[0m: name 'esc' is not defined"
     ]
    }
   ],
   "source": [
    "img = cv2.imread(\"E:\\PythonWorkSpace\\LearnCV\\cv_lesson02\\img\\scarlett_4.jpeg\", 0)\n",
    "kernel = np.zeros((5,5))\n",
    "img_blur = median_blur(img, kernel, \"REPLICA\")\n",
    "print(img_blur)\n",
    "cv2.imshow('img_blur', img_blur)"
   ]
  },
  {
   "cell_type": "code",
   "execution_count": null,
   "metadata": {},
   "outputs": [],
   "source": []
  }
 ],
 "metadata": {
  "kernelspec": {
   "display_name": "Python 3",
   "language": "python",
   "name": "python3"
  },
  "language_info": {
   "codemirror_mode": {
    "name": "ipython",
    "version": 3
   },
   "file_extension": ".py",
   "mimetype": "text/x-python",
   "name": "python",
   "nbconvert_exporter": "python",
   "pygments_lexer": "ipython3",
   "version": "3.6.4"
  }
 },
 "nbformat": 4,
 "nbformat_minor": 2
}
